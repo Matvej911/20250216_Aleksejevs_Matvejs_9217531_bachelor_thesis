{
  "nbformat": 4,
  "nbformat_minor": 0,
  "metadata": {
    "colab": {
      "provenance": [],
      "authorship_tag": "ABX9TyPOk1sR1f/2fHn8DqfKX2Jx",
      "include_colab_link": true
    },
    "kernelspec": {
      "name": "python3",
      "display_name": "Python 3"
    },
    "language_info": {
      "name": "python"
    }
  },
  "cells": [
    {
      "cell_type": "markdown",
      "metadata": {
        "id": "view-in-github",
        "colab_type": "text"
      },
      "source": [
        "<a href=\"https://colab.research.google.com/github/Matvej911/20250216_Aleksejevs_Matvejs_9217531_bachelor_thesis/blob/main/test_inverse_kinematic.ipynb\" target=\"_parent\"><img src=\"https://colab.research.google.com/assets/colab-badge.svg\" alt=\"Open In Colab\"/></a>"
      ]
    },
    {
      "cell_type": "code",
      "source": [
        "!pip3 install roboticstoolbox-python\n",
        "\n",
        "import roboticstoolbox as rtb\n",
        "import numpy as np\n",
        "from spatialmath import SE3  # For transformation matrices\n"
      ],
      "metadata": {
        "colab": {
          "base_uri": "https://localhost:8080/"
        },
        "id": "LokxhxaIZEMR",
        "outputId": "9024c9df-2b3b-4de7-b840-c51dfc6ad43e"
      },
      "execution_count": 1,
      "outputs": [
        {
          "output_type": "stream",
          "name": "stdout",
          "text": [
            "Collecting roboticstoolbox-python\n",
            "  Downloading roboticstoolbox_python-1.1.1.tar.gz (1.5 MB)\n",
            "\u001b[?25l     \u001b[90m━━━━━━━━━━━━━━━━━━━━━━━━━━━━━━━━━━━━━━━━\u001b[0m \u001b[32m0.0/1.5 MB\u001b[0m \u001b[31m?\u001b[0m eta \u001b[36m-:--:--\u001b[0m\r\u001b[2K     \u001b[91m━━━━━\u001b[0m\u001b[90m╺\u001b[0m\u001b[90m━━━━━━━━━━━━━━━━━━━━━━━━━━━━━━━━━━\u001b[0m \u001b[32m0.2/1.5 MB\u001b[0m \u001b[31m5.6 MB/s\u001b[0m eta \u001b[36m0:00:01\u001b[0m\r\u001b[2K     \u001b[91m━━━━━━━━━━━━━━━━━━━━━━━━━━━━━━━━━\u001b[0m\u001b[91m╸\u001b[0m\u001b[90m━━━━━━\u001b[0m \u001b[32m1.2/1.5 MB\u001b[0m \u001b[31m18.2 MB/s\u001b[0m eta \u001b[36m0:00:01\u001b[0m\r\u001b[2K     \u001b[91m━━━━━━━━━━━━━━━━━━━━━━━━━━━━━━━━━━━━━━━\u001b[0m\u001b[91m╸\u001b[0m \u001b[32m1.5/1.5 MB\u001b[0m \u001b[31m18.9 MB/s\u001b[0m eta \u001b[36m0:00:01\u001b[0m\r\u001b[2K     \u001b[90m━━━━━━━━━━━━━━━━━━━━━━━━━━━━━━━━━━━━━━━━\u001b[0m \u001b[32m1.5/1.5 MB\u001b[0m \u001b[31m11.3 MB/s\u001b[0m eta \u001b[36m0:00:00\u001b[0m\n",
            "\u001b[?25h  Installing build dependencies ... \u001b[?25l\u001b[?25hdone\n",
            "  Getting requirements to build wheel ... \u001b[?25l\u001b[?25hdone\n",
            "  Preparing metadata (pyproject.toml) ... \u001b[?25l\u001b[?25hdone\n",
            "Requirement already satisfied: numpy>=1.17.4 in /usr/local/lib/python3.11/dist-packages (from roboticstoolbox-python) (1.26.4)\n",
            "Collecting spatialmath-python>=1.1.5 (from roboticstoolbox-python)\n",
            "  Downloading spatialmath_python-1.1.14-py3-none-any.whl.metadata (17 kB)\n",
            "Collecting spatialgeometry>=1.0.0 (from roboticstoolbox-python)\n",
            "  Downloading spatialgeometry-1.1.0-cp311-cp311-manylinux_2_5_x86_64.manylinux1_x86_64.manylinux_2_17_x86_64.manylinux2014_x86_64.whl.metadata (4.5 kB)\n",
            "Collecting pgraph-python (from roboticstoolbox-python)\n",
            "  Downloading pgraph_python-0.6.3-py3-none-any.whl.metadata (7.5 kB)\n",
            "Requirement already satisfied: scipy in /usr/local/lib/python3.11/dist-packages (from roboticstoolbox-python) (1.13.1)\n",
            "Requirement already satisfied: matplotlib in /usr/local/lib/python3.11/dist-packages (from roboticstoolbox-python) (3.10.0)\n",
            "Collecting ansitable (from roboticstoolbox-python)\n",
            "  Downloading ansitable-0.11.4-py3-none-any.whl.metadata (28 kB)\n",
            "Collecting swift-sim>=1.0.0 (from roboticstoolbox-python)\n",
            "  Downloading swift_sim-1.1.0-cp311-cp311-manylinux_2_5_x86_64.manylinux1_x86_64.manylinux_2_17_x86_64.manylinux2014_x86_64.whl.metadata (8.3 kB)\n",
            "Collecting rtb-data (from roboticstoolbox-python)\n",
            "  Downloading rtb-data-1.0.1.tar.gz (114.7 MB)\n",
            "\u001b[2K     \u001b[90m━━━━━━━━━━━━━━━━━━━━━━━━━━━━━━━━━━━━━━━━\u001b[0m \u001b[32m114.7/114.7 MB\u001b[0m \u001b[31m8.6 MB/s\u001b[0m eta \u001b[36m0:00:00\u001b[0m\n",
            "\u001b[?25h  Preparing metadata (setup.py) ... \u001b[?25l\u001b[?25hdone\n",
            "Collecting progress (from roboticstoolbox-python)\n",
            "  Downloading progress-1.6.tar.gz (7.8 kB)\n",
            "  Preparing metadata (setup.py) ... \u001b[?25l\u001b[?25hdone\n",
            "Requirement already satisfied: typing_extensions in /usr/local/lib/python3.11/dist-packages (from roboticstoolbox-python) (4.12.2)\n",
            "Collecting pre-commit (from spatialmath-python>=1.1.5->roboticstoolbox-python)\n",
            "  Downloading pre_commit-4.1.0-py2.py3-none-any.whl.metadata (1.3 kB)\n",
            "Requirement already satisfied: websockets in /usr/local/lib/python3.11/dist-packages (from swift-sim>=1.0.0->roboticstoolbox-python) (14.2)\n",
            "Collecting colored (from ansitable->roboticstoolbox-python)\n",
            "  Downloading colored-2.3.0-py3-none-any.whl.metadata (3.6 kB)\n",
            "Requirement already satisfied: contourpy>=1.0.1 in /usr/local/lib/python3.11/dist-packages (from matplotlib->roboticstoolbox-python) (1.3.1)\n",
            "Requirement already satisfied: cycler>=0.10 in /usr/local/lib/python3.11/dist-packages (from matplotlib->roboticstoolbox-python) (0.12.1)\n",
            "Requirement already satisfied: fonttools>=4.22.0 in /usr/local/lib/python3.11/dist-packages (from matplotlib->roboticstoolbox-python) (4.55.8)\n",
            "Requirement already satisfied: kiwisolver>=1.3.1 in /usr/local/lib/python3.11/dist-packages (from matplotlib->roboticstoolbox-python) (1.4.8)\n",
            "Requirement already satisfied: packaging>=20.0 in /usr/local/lib/python3.11/dist-packages (from matplotlib->roboticstoolbox-python) (24.2)\n",
            "Requirement already satisfied: pillow>=8 in /usr/local/lib/python3.11/dist-packages (from matplotlib->roboticstoolbox-python) (11.1.0)\n",
            "Requirement already satisfied: pyparsing>=2.3.1 in /usr/local/lib/python3.11/dist-packages (from matplotlib->roboticstoolbox-python) (3.2.1)\n",
            "Requirement already satisfied: python-dateutil>=2.7 in /usr/local/lib/python3.11/dist-packages (from matplotlib->roboticstoolbox-python) (2.8.2)\n",
            "Requirement already satisfied: six>=1.5 in /usr/local/lib/python3.11/dist-packages (from python-dateutil>=2.7->matplotlib->roboticstoolbox-python) (1.17.0)\n",
            "Collecting cfgv>=2.0.0 (from pre-commit->spatialmath-python>=1.1.5->roboticstoolbox-python)\n",
            "  Downloading cfgv-3.4.0-py2.py3-none-any.whl.metadata (8.5 kB)\n",
            "Collecting identify>=1.0.0 (from pre-commit->spatialmath-python>=1.1.5->roboticstoolbox-python)\n",
            "  Downloading identify-2.6.7-py2.py3-none-any.whl.metadata (4.4 kB)\n",
            "Collecting nodeenv>=0.11.1 (from pre-commit->spatialmath-python>=1.1.5->roboticstoolbox-python)\n",
            "  Downloading nodeenv-1.9.1-py2.py3-none-any.whl.metadata (21 kB)\n",
            "Requirement already satisfied: pyyaml>=5.1 in /usr/local/lib/python3.11/dist-packages (from pre-commit->spatialmath-python>=1.1.5->roboticstoolbox-python) (6.0.2)\n",
            "Collecting virtualenv>=20.10.0 (from pre-commit->spatialmath-python>=1.1.5->roboticstoolbox-python)\n",
            "  Downloading virtualenv-20.29.2-py3-none-any.whl.metadata (4.5 kB)\n",
            "Collecting distlib<1,>=0.3.7 (from virtualenv>=20.10.0->pre-commit->spatialmath-python>=1.1.5->roboticstoolbox-python)\n",
            "  Downloading distlib-0.3.9-py2.py3-none-any.whl.metadata (5.2 kB)\n",
            "Requirement already satisfied: filelock<4,>=3.12.2 in /usr/local/lib/python3.11/dist-packages (from virtualenv>=20.10.0->pre-commit->spatialmath-python>=1.1.5->roboticstoolbox-python) (3.17.0)\n",
            "Requirement already satisfied: platformdirs<5,>=3.9.1 in /usr/local/lib/python3.11/dist-packages (from virtualenv>=20.10.0->pre-commit->spatialmath-python>=1.1.5->roboticstoolbox-python) (4.3.6)\n",
            "Downloading spatialgeometry-1.1.0-cp311-cp311-manylinux_2_5_x86_64.manylinux1_x86_64.manylinux_2_17_x86_64.manylinux2014_x86_64.whl (1.5 MB)\n",
            "\u001b[2K   \u001b[90m━━━━━━━━━━━━━━━━━━━━━━━━━━━━━━━━━━━━━━━━\u001b[0m \u001b[32m1.5/1.5 MB\u001b[0m \u001b[31m32.6 MB/s\u001b[0m eta \u001b[36m0:00:00\u001b[0m\n",
            "\u001b[?25hDownloading spatialmath_python-1.1.14-py3-none-any.whl (193 kB)\n",
            "\u001b[2K   \u001b[90m━━━━━━━━━━━━━━━━━━━━━━━━━━━━━━━━━━━━━━━━\u001b[0m \u001b[32m193.1/193.1 kB\u001b[0m \u001b[31m10.6 MB/s\u001b[0m eta \u001b[36m0:00:00\u001b[0m\n",
            "\u001b[?25hDownloading swift_sim-1.1.0-cp311-cp311-manylinux_2_5_x86_64.manylinux1_x86_64.manylinux_2_17_x86_64.manylinux2014_x86_64.whl (2.1 MB)\n",
            "\u001b[2K   \u001b[90m━━━━━━━━━━━━━━━━━━━━━━━━━━━━━━━━━━━━━━━━\u001b[0m \u001b[32m2.1/2.1 MB\u001b[0m \u001b[31m44.6 MB/s\u001b[0m eta \u001b[36m0:00:00\u001b[0m\n",
            "\u001b[?25hDownloading ansitable-0.11.4-py3-none-any.whl (19 kB)\n",
            "Downloading pgraph_python-0.6.3-py3-none-any.whl (17 kB)\n",
            "Downloading colored-2.3.0-py3-none-any.whl (18 kB)\n",
            "Downloading pre_commit-4.1.0-py2.py3-none-any.whl (220 kB)\n",
            "\u001b[2K   \u001b[90m━━━━━━━━━━━━━━━━━━━━━━━━━━━━━━━━━━━━━━━━\u001b[0m \u001b[32m220.6/220.6 kB\u001b[0m \u001b[31m15.5 MB/s\u001b[0m eta \u001b[36m0:00:00\u001b[0m\n",
            "\u001b[?25hDownloading cfgv-3.4.0-py2.py3-none-any.whl (7.2 kB)\n",
            "Downloading identify-2.6.7-py2.py3-none-any.whl (99 kB)\n",
            "\u001b[2K   \u001b[90m━━━━━━━━━━━━━━━━━━━━━━━━━━━━━━━━━━━━━━━━\u001b[0m \u001b[32m99.1/99.1 kB\u001b[0m \u001b[31m4.3 MB/s\u001b[0m eta \u001b[36m0:00:00\u001b[0m\n",
            "\u001b[?25hDownloading nodeenv-1.9.1-py2.py3-none-any.whl (22 kB)\n",
            "Downloading virtualenv-20.29.2-py3-none-any.whl (4.3 MB)\n",
            "\u001b[2K   \u001b[90m━━━━━━━━━━━━━━━━━━━━━━━━━━━━━━━━━━━━━━━━\u001b[0m \u001b[32m4.3/4.3 MB\u001b[0m \u001b[31m13.7 MB/s\u001b[0m eta \u001b[36m0:00:00\u001b[0m\n",
            "\u001b[?25hDownloading distlib-0.3.9-py2.py3-none-any.whl (468 kB)\n",
            "\u001b[2K   \u001b[90m━━━━━━━━━━━━━━━━━━━━━━━━━━━━━━━━━━━━━━━━\u001b[0m \u001b[32m469.0/469.0 kB\u001b[0m \u001b[31m16.3 MB/s\u001b[0m eta \u001b[36m0:00:00\u001b[0m\n",
            "\u001b[?25hBuilding wheels for collected packages: roboticstoolbox-python, progress, rtb-data\n",
            "  Building wheel for roboticstoolbox-python (pyproject.toml) ... \u001b[?25l\u001b[?25hdone\n",
            "  Created wheel for roboticstoolbox-python: filename=roboticstoolbox_python-1.1.1-cp311-cp311-linux_x86_64.whl size=12143753 sha256=1d018438cd67cc4360ce3ce972f2ca2ac2a1643a04cf768c0bb51a2cef70cfab\n",
            "  Stored in directory: /root/.cache/pip/wheels/21/76/38/897b84a81ad21d0218ff5686724f9540d4b41020f85d5b7aad\n",
            "  Building wheel for progress (setup.py) ... \u001b[?25l\u001b[?25hdone\n",
            "  Created wheel for progress: filename=progress-1.6-py3-none-any.whl size=9613 sha256=5cab44d81dfda0190da18dc1a7ca1e96971d48f70c5274cb55bca03951a5ca3e\n",
            "  Stored in directory: /root/.cache/pip/wheels/b5/b9/86/f1bcc2a1de592673c4192d9459c0da1100d70212f38b6bd2a4\n",
            "  Building wheel for rtb-data (setup.py) ... \u001b[?25l\u001b[?25hdone\n",
            "  Created wheel for rtb-data: filename=rtb_data-1.0.1-py3-none-any.whl size=115135912 sha256=808cc952ec728a735259df31e463a886b7eca41fced67caa428abfff64f8b23c\n",
            "  Stored in directory: /root/.cache/pip/wheels/f1/be/48/3b075c2c026666f5263df04c8f1dfc8bf5977bc72e8a25cd5f\n",
            "Successfully built roboticstoolbox-python progress rtb-data\n",
            "Installing collected packages: rtb-data, progress, distlib, virtualenv, nodeenv, identify, colored, cfgv, pre-commit, ansitable, spatialmath-python, spatialgeometry, pgraph-python, swift-sim, roboticstoolbox-python\n",
            "Successfully installed ansitable-0.11.4 cfgv-3.4.0 colored-2.3.0 distlib-0.3.9 identify-2.6.7 nodeenv-1.9.1 pgraph-python-0.6.3 pre-commit-4.1.0 progress-1.6 roboticstoolbox-python-1.1.1 rtb-data-1.0.1 spatialgeometry-1.1.0 spatialmath-python-1.1.14 swift-sim-1.1.0 virtualenv-20.29.2\n"
          ]
        }
      ]
    },
    {
      "cell_type": "code",
      "source": [
        "modifiedrobot1 = rtb.ERobot.URDF('/content/robot_file.urdf')\n",
        "\n",
        "# Print the robot model to verify\n",
        "print(modifiedrobot1)\n"
      ],
      "metadata": {
        "colab": {
          "base_uri": "https://localhost:8080/"
        },
        "id": "jmr3jORs44ph",
        "outputId": "ac1654db-112c-4aaf-dbf4-87b4dc654605"
      },
      "execution_count": 4,
      "outputs": [
        {
          "output_type": "stream",
          "name": "stdout",
          "text": [
            "ERobot: fromreal, 5 joints (RRRRR), dynamics, geometry, collision\n",
            "┌──────┬──────────────┬───────┬────────────┬───────────────────────────────────────────────────────┐\n",
            "│ link │     link     │ joint │   parent   │                  ETS: parent to link                  │\n",
            "├──────┼──────────────┼───────┼────────────┼───────────────────────────────────────────────────────┤\n",
            "│    0 │ base         │       │ BASE       │ SE3()                                                 │\n",
            "│    1 │ firstlink    │     0 │ base       │ SE3(0, 0, 0.054) ⊕ Rz(q0)                             │\n",
            "│    2 │ secondlink   │     1 │ firstlink  │ SE3(-0.02, 0, 0.063; 0°, -90°, -0°) ⊕ Rz(q1)          │\n",
            "│    3 │ thirdlink    │     2 │ secondlink │ SE3(0.134, 0, 0; 180°, -0°, 0°) ⊕ Rz(q2)              │\n",
            "│    4 │ forthlink    │     3 │ thirdlink  │ SE3(0.1, 0, 0.02; 180°, -0°, 0°) ⊕ Rz(q3)             │\n",
            "│    5 │ @endeffector │     4 │ forthlink  │ SE3(0.1218, 0.02191, 0.02; 90°, 32.7°, 127°) ⊕ Rz(q4) │\n",
            "└──────┴──────────────┴───────┴────────────┴───────────────────────────────────────────────────────┘\n",
            "\n"
          ]
        }
      ]
    },
    {
      "cell_type": "code",
      "source": [
        "\n",
        "# Load the robot\n",
        "modifiedrobot = rtb.ERobot.URDF('/content/robot_file.urdf')\n",
        "ets = modifiedrobot.ets()\n",
        "\n",
        "# Define initial target position and orientation (Euler angles in degrees)\n",
        "x1, y1, z1 = -0.07950055,  0.2196272,   0    # Initial end-effector position   use different coodinates for testing purposes\n",
        "euler_x1, euler_y1, euler_z1 = 0, 0, -185  # Initial orientation (roll, pitch, yaw)\n",
        "\n",
        "# Convert initial Euler angles to a transformation matrix\n",
        "R1 = SE3.RPY([np.radians(euler_x1), np.radians(euler_y1), np.radians(euler_z1)], order='xyz')  # Rotation matrix\n",
        "Tep1 = SE3(x1, y1, z1) * R1  # Combine position and orientation into a transformation matrix\n",
        "\n",
        "# Solve the IK problem to find joint angles for the initial pose\n",
        "initial_guess = ets.ikine_LM(ets.fkine(np.zeros(ets.n)), method='wampler').q\n",
        "joint_angles1, *_= ets.ik_LM(Tep1, q0=initial_guess, ilimit=200, slimit=3000, tol=1e-5, method='chan', k=0.1, mask=[1, 1, 1, 1, 0, 0])\n",
        "\n",
        "\n",
        "# Convert joint angles to degrees for printing\n",
        "joint_angles_degrees1 = np.degrees(joint_angles1)\n",
        "print(\"Initial Joint Angles (Degrees):\", joint_angles_degrees1)\n"
      ],
      "metadata": {
        "colab": {
          "base_uri": "https://localhost:8080/"
        },
        "id": "ufKlwPBoEiX-",
        "outputId": "f0bd9df1-1f42-448a-d4a7-03d6115e7646"
      },
      "execution_count": 5,
      "outputs": [
        {
          "output_type": "stream",
          "name": "stdout",
          "text": [
            "Initial Joint Angles (Degrees): [ 14.96708542  59.62833317 -74.18493225  14.86835779  -1.14366887]\n"
          ]
        }
      ]
    }
  ]
}